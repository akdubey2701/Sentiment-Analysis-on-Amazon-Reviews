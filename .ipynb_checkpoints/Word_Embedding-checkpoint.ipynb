{
 "cells": [
  {
   "cell_type": "markdown",
   "metadata": {
    "colab_type": "text",
    "id": "li463lIIs5IS"
   },
   "source": [
    "# Importing the Libraries"
   ]
  },
  {
   "cell_type": "code",
   "execution_count": 0,
   "metadata": {
    "colab": {
     "base_uri": "https://localhost:8080/",
     "height": 71
    },
    "colab_type": "code",
    "id": "8QqeP0ragxvh",
    "outputId": "642b41c6-37ed-4419-9f85-b81f9a49473a"
   },
   "outputs": [
    {
     "name": "stderr",
     "output_type": "stream",
     "text": [
      "/usr/local/lib/python3.6/dist-packages/statsmodels/tools/_testing.py:19: FutureWarning: pandas.util.testing is deprecated. Use the functions in the public API at pandas.testing instead.\n",
      "  import pandas.util.testing as tm\n"
     ]
    }
   ],
   "source": [
    "import pandas as pd\n",
    "import numpy as np\n",
    "import seaborn as sns\n",
    "import matplotlib.pyplot as plt\n",
    "%matplotlib inline"
   ]
  },
  {
   "cell_type": "markdown",
   "metadata": {
    "colab_type": "text",
    "id": "bOZtX2FJtItz"
   },
   "source": [
    "# Mounting the Drive"
   ]
  },
  {
   "cell_type": "code",
   "execution_count": 0,
   "metadata": {
    "colab": {
     "base_uri": "https://localhost:8080/",
     "height": 34
    },
    "colab_type": "code",
    "id": "7Lqcwueng9rS",
    "outputId": "ae93bdd5-8925-4453-b963-0ab1cdbf3ede"
   },
   "outputs": [
    {
     "name": "stdout",
     "output_type": "stream",
     "text": [
      "Drive already mounted at /content/drive; to attempt to forcibly remount, call drive.mount(\"/content/drive\", force_remount=True).\n"
     ]
    }
   ],
   "source": [
    "from google.colab import drive\n",
    "drive.mount('/content/drive')\n",
    "path = \"/content/drive/My Drive/data/sorted_data\"\n",
    "Reviews = pd.read_csv('/content/drive/My Drive/data/sorted_data/Reviews.csv')"
   ]
  },
  {
   "cell_type": "code",
   "execution_count": 0,
   "metadata": {
    "colab": {
     "base_uri": "https://localhost:8080/",
     "height": 247
    },
    "colab_type": "code",
    "id": "-oD3lP-ohx50",
    "outputId": "2378779d-9499-43a0-f2b3-6ee09253d537"
   },
   "outputs": [
    {
     "data": {
      "text/html": [
       "<div>\n",
       "<style scoped>\n",
       "    .dataframe tbody tr th:only-of-type {\n",
       "        vertical-align: middle;\n",
       "    }\n",
       "\n",
       "    .dataframe tbody tr th {\n",
       "        vertical-align: top;\n",
       "    }\n",
       "\n",
       "    .dataframe thead th {\n",
       "        text-align: right;\n",
       "    }\n",
       "</style>\n",
       "<table border=\"1\" class=\"dataframe\">\n",
       "  <thead>\n",
       "    <tr style=\"text-align: right;\">\n",
       "      <th></th>\n",
       "      <th>Unnamed: 0</th>\n",
       "      <th>asin</th>\n",
       "      <th>product_name</th>\n",
       "      <th>helpful</th>\n",
       "      <th>rating</th>\n",
       "      <th>title</th>\n",
       "      <th>date</th>\n",
       "      <th>reviewer</th>\n",
       "      <th>reviewer_location</th>\n",
       "      <th>review_text</th>\n",
       "      <th>Class</th>\n",
       "    </tr>\n",
       "  </thead>\n",
       "  <tbody>\n",
       "    <tr>\n",
       "      <th>0</th>\n",
       "      <td>0</td>\n",
       "      <td>0375416811</td>\n",
       "      <td>Bridget Jones Diary: Books: Helen Fielding,Tra...</td>\n",
       "      <td>NaN</td>\n",
       "      <td>5.0</td>\n",
       "      <td>Founder of chick lit</td>\n",
       "      <td>August 24, 2006</td>\n",
       "      <td>Erin Oakes \"avid reader\"</td>\n",
       "      <td>Central PA</td>\n",
       "      <td>Bridget Jones, modern day woman, brillant and ...</td>\n",
       "      <td>pos</td>\n",
       "    </tr>\n",
       "    <tr>\n",
       "      <th>1</th>\n",
       "      <td>1</td>\n",
       "      <td>188105201X</td>\n",
       "      <td>Leadership and the New Science: Learning About...</td>\n",
       "      <td>3 of 3</td>\n",
       "      <td>5.0</td>\n",
       "      <td>Excellent resource for principals!</td>\n",
       "      <td>July 6, 1999</td>\n",
       "      <td>ONICKRE@mail.milwaukee.k12.wi.us</td>\n",
       "      <td>Milwaukee, Wisconsin</td>\n",
       "      <td>I am ordering copies for all 23 middle school ...</td>\n",
       "      <td>pos</td>\n",
       "    </tr>\n",
       "  </tbody>\n",
       "</table>\n",
       "</div>"
      ],
      "text/plain": [
       "   Unnamed: 0  ... Class\n",
       "0           0  ...   pos\n",
       "1           1  ...   pos\n",
       "\n",
       "[2 rows x 11 columns]"
      ]
     },
     "execution_count": 3,
     "metadata": {
      "tags": []
     },
     "output_type": "execute_result"
    }
   ],
   "source": [
    "Reviews.head(n=2)"
   ]
  },
  {
   "cell_type": "code",
   "execution_count": 0,
   "metadata": {
    "colab": {},
    "colab_type": "code",
    "id": "sbe0hR3kiFSb"
   },
   "outputs": [],
   "source": [
    "ReviewsText =  Reviews.loc[:,'review_text':'Class']"
   ]
  },
  {
   "cell_type": "code",
   "execution_count": 0,
   "metadata": {
    "colab": {
     "base_uri": "https://localhost:8080/",
     "height": 111
    },
    "colab_type": "code",
    "id": "yn9_JhTOiMVD",
    "outputId": "30e55f23-f43e-4145-d845-ba70aea5e775"
   },
   "outputs": [
    {
     "data": {
      "text/html": [
       "<div>\n",
       "<style scoped>\n",
       "    .dataframe tbody tr th:only-of-type {\n",
       "        vertical-align: middle;\n",
       "    }\n",
       "\n",
       "    .dataframe tbody tr th {\n",
       "        vertical-align: top;\n",
       "    }\n",
       "\n",
       "    .dataframe thead th {\n",
       "        text-align: right;\n",
       "    }\n",
       "</style>\n",
       "<table border=\"1\" class=\"dataframe\">\n",
       "  <thead>\n",
       "    <tr style=\"text-align: right;\">\n",
       "      <th></th>\n",
       "      <th>review_text</th>\n",
       "      <th>Class</th>\n",
       "    </tr>\n",
       "  </thead>\n",
       "  <tbody>\n",
       "    <tr>\n",
       "      <th>0</th>\n",
       "      <td>Bridget Jones, modern day woman, brillant and ...</td>\n",
       "      <td>pos</td>\n",
       "    </tr>\n",
       "    <tr>\n",
       "      <th>1</th>\n",
       "      <td>I am ordering copies for all 23 middle school ...</td>\n",
       "      <td>pos</td>\n",
       "    </tr>\n",
       "  </tbody>\n",
       "</table>\n",
       "</div>"
      ],
      "text/plain": [
       "                                         review_text Class\n",
       "0  Bridget Jones, modern day woman, brillant and ...   pos\n",
       "1  I am ordering copies for all 23 middle school ...   pos"
      ]
     },
     "execution_count": 5,
     "metadata": {
      "tags": []
     },
     "output_type": "execute_result"
    }
   ],
   "source": [
    "ReviewsText.head(n=2)"
   ]
  },
  {
   "cell_type": "markdown",
   "metadata": {
    "colab_type": "text",
    "id": "irZqXE0GtS1j"
   },
   "source": [
    "### Performing the basic preprocessing "
   ]
  },
  {
   "cell_type": "code",
   "execution_count": 0,
   "metadata": {
    "colab": {
     "base_uri": "https://localhost:8080/",
     "height": 122
    },
    "colab_type": "code",
    "id": "AmjegIepiObK",
    "outputId": "ec07862c-9200-4437-b0cd-19f016724b7e"
   },
   "outputs": [
    {
     "name": "stdout",
     "output_type": "stream",
     "text": [
      "[nltk_data] Downloading package punkt to /root/nltk_data...\n",
      "[nltk_data]   Package punkt is already up-to-date!\n",
      "Words  ['I', 'am', 'ordering', 'copies', 'for', 'all', '23', 'middle', 'school', 'principals', 'and', 'the', 'two', 'assistant', 'principals', 'leading', 'two', 'middle', 'school', 'programs', 'in', 'the', 'Milwaukee', 'Public', 'Schools', 'system', '.', 'We', 'will', 'use', 'Wheatley', \"'s\", 'book', 'as', 'the', 'primary', 'resource', 'for', 'our', 'professional', 'growth', 'at', 'our', 'MPS', 'Middle', 'School', 'Principals', 'Collaborative', 'institute', 'August', '9-11', ',', '1999', '.', 'We', 'are', 'not', 'just', 'concerned', 'with', 'reform', ';', 'we', 'seek', 'renewal', 'as', 'well', '.', 'Wheatley', 'provides', 'the', 'basis', '.', 'She', 'notes', 'that', 'Einstein', 'said', 'that', 'a', 'problem', 'can', 'not', 'be', 'solved', 'from', 'the', 'same', 'consciousness', 'that', 'created', 'it', '.', 'The', 'entire', 'book', 'is', 'a', 'marvelous', 'exploration', 'of', 'this', 'philosophy']\n",
      "Sents  ['I am ordering copies for all 23 middle school principals and the two assistant principals leading two middle school programs in the Milwaukee Public Schools system.', \"We will use Wheatley's book as the primary resource  for our professional growth at our MPS Middle School Principals  Collaborative institute August 9-11, 1999.\", 'We are not just concerned with  reform; we seek renewal as well.', 'Wheatley provides the basis.', 'She notes  that Einstein said that  a problem cannot be solved from the same  consciousness that created it.', 'The entire book is a marvelous exploration  of this philosophy']\n",
      "['I', 'am', 'ordering', 'copies', 'for', 'all', '23', 'middle', 'school', 'principals', 'and', 'the', 'two', 'assistant', 'principals', 'leading', 'two', 'middle', 'school', 'programs', 'in', 'the', 'Milwaukee', 'Public', 'Schools', 'system', 'We', 'will', 'use', 'Wheatley', 's', 'book', 'as', 'the', 'primary', 'resource', 'for', 'our', 'professional', 'growth', 'at', 'our', 'MPS', 'Middle', 'School', 'Principals', 'Collaborative', 'institute', 'August', '9', '11', '1999', 'We', 'are', 'not', 'just', 'concerned', 'with', 'reform', 'we', 'seek', 'renewal', 'as', 'well', 'Wheatley', 'provides', 'the', 'basis', 'She', 'notes', 'that', 'Einstein', 'said', 'that', 'a', 'problem', 'cannot', 'be', 'solved', 'from', 'the', 'same', 'consciousness', 'that', 'created', 'it', 'The', 'entire', 'book', 'is', 'a', 'marvelous', 'exploration', 'of', 'this', 'philosophy']\n"
     ]
    }
   ],
   "source": [
    "from nltk.tokenize import word_tokenize,sent_tokenize\n",
    "from nltk.tokenize import RegexpTokenizer\n",
    "\n",
    "\n",
    "import nltk\n",
    "nltk.download('punkt')\n",
    "def tokenize_words_Sents(Sent):\n",
    "    return word_tokenize(Sent),sent_tokenize(Sent)\n",
    "def tokenize_words(Sent):\n",
    "    return word_tokenize(Sent)   \n",
    "def RegExpTokenizer(Sent):\n",
    "    tokenizer = RegexpTokenizer(r'\\w+')\n",
    "    return tokenizer.tokenize(Sent)\n",
    "\n",
    "Words,Sents = tokenize_words_Sents(ReviewsText.review_text[1])\n",
    "print(\"Words \",Words)\n",
    "print(\"Sents \",Sents)\n",
    "print(RegExpTokenizer(ReviewsText.review_text[1]))"
   ]
  },
  {
   "cell_type": "markdown",
   "metadata": {
    "colab_type": "text",
    "id": "FfgZHMixtqZK"
   },
   "source": [
    "### Removing the stopwords"
   ]
  },
  {
   "cell_type": "code",
   "execution_count": 0,
   "metadata": {
    "colab": {
     "base_uri": "https://localhost:8080/",
     "height": 156
    },
    "colab_type": "code",
    "id": "BhrWOrQwkM7-",
    "outputId": "370cf5f3-7707-433f-e189-fc0b5cae40fa"
   },
   "outputs": [
    {
     "name": "stdout",
     "output_type": "stream",
     "text": [
      "[nltk_data] Downloading package stopwords to /root/nltk_data...\n",
      "[nltk_data]   Package stopwords is already up-to-date!\n",
      "{'if', 'before', 'those', 'our', 'how', 'hers', 'd', 'such', 'y', 'most', 'as', \"mustn't\", 'have', 'aren', 'do', 'with', 'under', 'don', 'ma', 'weren', 'was', \"isn't\", 'all', 'there', 'him', \"don't\", \"it's\", 'did', 'above', 'each', 'through', 'any', 'at', 'these', 'again', \"you'll\", 'so', 'are', 'will', 'should', 'against', 'this', 'doesn', 'because', 'been', 'were', 'i', \"shan't\", \"won't\", 'same', 'up', \"that'll\", 'he', 'no', \"hasn't\", 'shan', 'into', 'it', \"wouldn't\", \"should've\", 'herself', 'further', 'can', 'about', 'own', 'then', 'both', 'needn', \"she's\", \"shouldn't\", 'more', 'myself', 'ain', 'mightn', \"you're\", 't', 'wasn', 'isn', 'once', 'won', 'hadn', 'few', 'your', 'shouldn', \"weren't\", 'my', 'its', 'nor', 'wouldn', 'm', 'where', 'couldn', 'am', 'themselves', \"aren't\", 'not', 'yourselves', 'while', 'here', 'we', \"you'd\", 'hasn', 'whom', 'o', 's', \"haven't\", 'ours', 'his', \"hadn't\", 'until', 'her', 'on', 'them', \"didn't\", 'or', 'to', 'who', 'they', 'didn', 'having', 'when', 'down', 're', 'me', 'their', 'does', 'll', 'other', 'himself', 'yourself', 'itself', 'out', \"doesn't\", 'than', 'off', 'doing', 'of', 'in', 'too', 'why', 'being', 'that', 'some', 'mustn', 'for', 'during', 'you', 'has', 'an', 'just', 'what', 'the', 'by', 'she', 'only', 've', \"needn't\", 'yours', 'had', 'now', 'which', 'haven', 'a', 'ourselves', 'is', 'after', 'but', 'between', 'from', \"you've\", 'and', 'theirs', 'over', \"couldn't\", 'very', 'be', \"wasn't\", 'below', \"mightn't\"}\n",
      "------------------Words ------------------------\n",
      "['I', 'am', 'ordering', 'copies', 'for', 'all', '23', 'middle', 'school', 'principals', 'and', 'the', 'two', 'assistant', 'principals', 'leading', 'two', 'middle', 'school', 'programs', 'in', 'the', 'Milwaukee', 'Public', 'Schools', 'system', '.', 'We', 'will', 'use', 'Wheatley', \"'s\", 'book', 'as', 'the', 'primary', 'resource', 'for', 'our', 'professional', 'growth', 'at', 'our', 'MPS', 'Middle', 'School', 'Principals', 'Collaborative', 'institute', 'August', '9-11', ',', '1999', '.', 'We', 'are', 'not', 'just', 'concerned', 'with', 'reform', ';', 'we', 'seek', 'renewal', 'as', 'well', '.', 'Wheatley', 'provides', 'the', 'basis', '.', 'She', 'notes', 'that', 'Einstein', 'said', 'that', 'a', 'problem', 'can', 'not', 'be', 'solved', 'from', 'the', 'same', 'consciousness', 'that', 'created', 'it', '.', 'The', 'entire', 'book', 'is', 'a', 'marvelous', 'exploration', 'of', 'this', 'philosophy']\n",
      "------------------Words filltred---------------------\n",
      "['I', 'ordering', 'copies', '23', 'middle', 'school', 'principals', 'two', 'assistant', 'principals', 'leading', 'two', 'middle', 'school', 'programs', 'Milwaukee', 'Public', 'Schools', 'system', '.', 'We', 'use', 'Wheatley', \"'s\", 'book', 'primary', 'resource', 'professional', 'growth', 'MPS', 'Middle', 'School', 'Principals', 'Collaborative', 'institute', 'August', '9-11', ',', '1999', '.', 'We', 'concerned', 'reform', ';', 'seek', 'renewal', 'well', '.', 'Wheatley', 'provides', 'basis', '.', 'She', 'notes', 'Einstein', 'said', 'problem', 'solved', 'consciousness', 'created', '.', 'The', 'entire', 'book', 'marvelous', 'exploration', 'philosophy']\n"
     ]
    }
   ],
   "source": [
    "from nltk.corpus import stopwords\n",
    "nltk.download('stopwords')\n",
    "def Eliminate_Stop_Words(Sent):\n",
    "    stop_words = set(stopwords.words(\"english\"))\n",
    "    filtered_words = []\n",
    "    for w in Sent:\n",
    "        if w not in stop_words:\n",
    "            filtered_words.append(w)\n",
    "    return stop_words,filtered_words\n",
    "\n",
    "def Eliminate_Stop_Word(Sent):\n",
    "    stop_words = set(stopwords.words(\"english\"))\n",
    "    filtered_words = []\n",
    "    for w in Sent:\n",
    "        if w not in stop_words:\n",
    "            filtered_words.append(w)\n",
    "    return filtered_words\n",
    "\n",
    "stop_words,filtered_words = Eliminate_Stop_Words(Words)\n",
    "print(stop_words)\n",
    "print(\"------------------Words ------------------------\")\n",
    "print(Words)\n",
    "print(\"------------------Words filltred---------------------\")\n",
    "print(filtered_words)"
   ]
  },
  {
   "cell_type": "markdown",
   "metadata": {
    "colab_type": "text",
    "id": "SP3oVoaTtvLD"
   },
   "source": [
    "### Performing Stemming and Lemmatization"
   ]
  },
  {
   "cell_type": "code",
   "execution_count": 0,
   "metadata": {
    "colab": {},
    "colab_type": "code",
    "id": "L8p36HbDkcoG"
   },
   "outputs": [],
   "source": [
    "from nltk.stem import WordNetLemmatizer\n",
    "#nltk.download('wordnet')\n",
    "def Lemmatizing_Words(Words):\n",
    "    Lm = WordNetLemmatizer()\n",
    "    Lemmatized_Words = []\n",
    "    for m in Words:\n",
    "        Lemmatized_Words.append(Lm.lemmatize(m))\n",
    "    return Lemmatized_Words"
   ]
  },
  {
   "cell_type": "code",
   "execution_count": 0,
   "metadata": {
    "colab": {
     "base_uri": "https://localhost:8080/",
     "height": 71
    },
    "colab_type": "code",
    "id": "pnkEWgchk0Ks",
    "outputId": "fc2e5f50-e047-4e53-c68a-aa8a654bf7c0"
   },
   "outputs": [
    {
     "data": {
      "text/plain": [
       "[\"Bridget Jones, modern day woman, brillant and doesn't know it, prone to accidents and mess ups but manages to come out of them.  \",\n",
       " \"I am ordering copies for all 23 middle school principals and the two assistant principals leading two middle school programs in the Milwaukee Public Schools system. We will use Wheatley's book as the primary resource  for our professional growth at our MPS Middle School Principals  Collaborative institute August 9-11, 1999. We are not just concerned with  reform; we seek renewal as well. Wheatley provides the basis. She notes  that Einstein said that  a problem cannot be solved from the same  consciousness that created it. The entire book is a marvelous exploration  of this philosophy\"]"
      ]
     },
     "execution_count": 9,
     "metadata": {
      "tags": []
     },
     "output_type": "execute_result"
    }
   ],
   "source": [
    "Texts = list(ReviewsText['review_text'])\n",
    "Texts[:2]"
   ]
  },
  {
   "cell_type": "code",
   "execution_count": 0,
   "metadata": {
    "colab": {
     "base_uri": "https://localhost:8080/",
     "height": 122
    },
    "colab_type": "code",
    "id": "hAqLhv47k6Wa",
    "outputId": "f95ba46d-8d03-4844-d166-21070df20cf9"
   },
   "outputs": [
    {
     "name": "stdout",
     "output_type": "stream",
     "text": [
      "[nltk_data] Downloading package wordnet to /root/nltk_data...\n",
      "[nltk_data]   Package wordnet is already up-to-date!\n",
      "['I', 'am', 'ordering', 'copies', 'for', 'all', '23', 'middle', 'school', 'principals', 'and', 'the', 'two', 'assistant', 'principals', 'leading', 'two', 'middle', 'school', 'programs', 'in', 'the', 'Milwaukee', 'Public', 'Schools', 'system', 'We', 'will', 'use', 'Wheatley', 's', 'book', 'as', 'the', 'primary', 'resource', 'for', 'our', 'professional', 'growth', 'at', 'our', 'MPS', 'Middle', 'School', 'Principals', 'Collaborative', 'institute', 'August', '9', '11', '1999', 'We', 'are', 'not', 'just', 'concerned', 'with', 'reform', 'we', 'seek', 'renewal', 'as', 'well', 'Wheatley', 'provides', 'the', 'basis', 'She', 'notes', 'that', 'Einstein', 'said', 'that', 'a', 'problem', 'cannot', 'be', 'solved', 'from', 'the', 'same', 'consciousness', 'that', 'created', 'it', 'The', 'entire', 'book', 'is', 'a', 'marvelous', 'exploration', 'of', 'this', 'philosophy']\n",
      "['I', 'ordering', 'copies', '23', 'middle', 'school', 'principals', 'two', 'assistant', 'principals', 'leading', 'two', 'middle', 'school', 'programs', 'Milwaukee', 'Public', 'Schools', 'system', 'We', 'use', 'Wheatley', 'book', 'primary', 'resource', 'professional', 'growth', 'MPS', 'Middle', 'School', 'Principals', 'Collaborative', 'institute', 'August', '9', '11', '1999', 'We', 'concerned', 'reform', 'seek', 'renewal', 'well', 'Wheatley', 'provides', 'basis', 'She', 'notes', 'Einstein', 'said', 'problem', 'cannot', 'solved', 'consciousness', 'created', 'The', 'entire', 'book', 'marvelous', 'exploration', 'philosophy']\n",
      "['I', 'ordering', 'copy', '23', 'middle', 'school', 'principal', 'two', 'assistant', 'principal', 'leading', 'two', 'middle', 'school', 'program', 'Milwaukee', 'Public', 'Schools', 'system', 'We', 'use', 'Wheatley', 'book', 'primary', 'resource', 'professional', 'growth', 'MPS', 'Middle', 'School', 'Principals', 'Collaborative', 'institute', 'August', '9', '11', '1999', 'We', 'concerned', 'reform', 'seek', 'renewal', 'well', 'Wheatley', 'provides', 'basis', 'She', 'note', 'Einstein', 'said', 'problem', 'cannot', 'solved', 'consciousness', 'created', 'The', 'entire', 'book', 'marvelous', 'exploration', 'philosophy']\n"
     ]
    }
   ],
   "source": [
    "#RegExpTokenizer to get rid of punctuation\n",
    "nltk.download('wordnet')\n",
    "ListWords =  [RegExpTokenizer(str(m)) for m in Texts]\n",
    "print(ListWords[1])\n",
    "#Eliminate Stop_Words\n",
    "ListWords =  [Eliminate_Stop_Word(m) for m in ListWords]\n",
    "print(ListWords[1])\n",
    "#Lemmatizing\n",
    "ListWords = [Lemmatizing_Words(m) for m in ListWords]\n",
    "print(ListWords[1])"
   ]
  },
  {
   "cell_type": "markdown",
   "metadata": {
    "colab_type": "text",
    "id": "4-5XstyPuDul"
   },
   "source": [
    "### Removing the irrelevant words"
   ]
  },
  {
   "cell_type": "code",
   "execution_count": 0,
   "metadata": {
    "colab": {},
    "colab_type": "code",
    "id": "z309zSCNlJJ_"
   },
   "outputs": [],
   "source": [
    "def eliminate_irrelevent_Words(ListWords):\n",
    "    ListWords1 = [] \n",
    "    for m in ListWords:\n",
    "        l = [item.lower() for item in m]\n",
    "        ListWords1.append(l)\n",
    "    ListWords = ListWords1\n",
    "    #print(ListWords)\n",
    "    #elimnate words\n",
    "    for m in ListWords:\n",
    "        for w in m:\n",
    "            if len(w) <=3:\n",
    "                m.remove(w)\n",
    "            if w == 'this':\n",
    "                m.remove(w)\n",
    "    return ListWords"
   ]
  },
  {
   "cell_type": "code",
   "execution_count": 0,
   "metadata": {
    "colab": {
     "base_uri": "https://localhost:8080/",
     "height": 1000
    },
    "colab_type": "code",
    "id": "5bn0GT6ClI9z",
    "outputId": "5b52ac2e-43e2-43fd-cab0-fbc979de656a"
   },
   "outputs": [
    {
     "data": {
      "text/plain": [
       "[['bridget',\n",
       "  'jones',\n",
       "  'modern',\n",
       "  'woman',\n",
       "  'brillant',\n",
       "  'know',\n",
       "  'prone',\n",
       "  'accident',\n",
       "  'mess',\n",
       "  'manages',\n",
       "  'come'],\n",
       " ['ordering',\n",
       "  'copy',\n",
       "  'middle',\n",
       "  'school',\n",
       "  'principal',\n",
       "  'assistant',\n",
       "  'principal',\n",
       "  'leading',\n",
       "  'middle',\n",
       "  'school',\n",
       "  'program',\n",
       "  'milwaukee',\n",
       "  'public',\n",
       "  'schools',\n",
       "  'system',\n",
       "  'use',\n",
       "  'wheatley',\n",
       "  'book',\n",
       "  'primary',\n",
       "  'resource',\n",
       "  'professional',\n",
       "  'growth',\n",
       "  'middle',\n",
       "  'school',\n",
       "  'principals',\n",
       "  'collaborative',\n",
       "  'institute',\n",
       "  'august',\n",
       "  '11',\n",
       "  '1999',\n",
       "  'concerned',\n",
       "  'reform',\n",
       "  'seek',\n",
       "  'renewal',\n",
       "  'well',\n",
       "  'wheatley',\n",
       "  'provides',\n",
       "  'basis',\n",
       "  'note',\n",
       "  'einstein',\n",
       "  'said',\n",
       "  'problem',\n",
       "  'cannot',\n",
       "  'solved',\n",
       "  'consciousness',\n",
       "  'created',\n",
       "  'entire',\n",
       "  'book',\n",
       "  'marvelous',\n",
       "  'exploration',\n",
       "  'philosophy']]"
      ]
     },
     "execution_count": 12,
     "metadata": {
      "tags": []
     },
     "output_type": "execute_result"
    }
   ],
   "source": [
    "ListWords = eliminate_irrelevent_Words(ListWords)\n",
    "ListWords[:2]"
   ]
  },
  {
   "cell_type": "code",
   "execution_count": 0,
   "metadata": {
    "colab": {},
    "colab_type": "code",
    "id": "qvoXss1blIxs"
   },
   "outputs": [],
   "source": [
    "#All Words\n",
    "from nltk import FreqDist\n",
    "def Bag_Of_Words(ListWords):\n",
    "    all_words = []\n",
    "    for m in ListWords:\n",
    "        for w in m:\n",
    "            all_words.append(w.lower())\n",
    "    all_words = FreqDist(all_words)\n",
    "    return all_words"
   ]
  },
  {
   "cell_type": "code",
   "execution_count": 0,
   "metadata": {
    "colab": {},
    "colab_type": "code",
    "id": "B2q2RcIIlIjo"
   },
   "outputs": [],
   "source": [
    "all_words = Bag_Of_Words(ListWords)"
   ]
  },
  {
   "cell_type": "code",
   "execution_count": 0,
   "metadata": {
    "colab": {},
    "colab_type": "code",
    "id": "7ZTbpjuclIWM"
   },
   "outputs": [],
   "source": [
    "import random\n",
    "def Create_Document(ReviewsText,ListWords):\n",
    "    ListClass = list(ReviewsText['Class'])\n",
    "    Documents =  []\n",
    "    for m in range(len(ListWords)):\n",
    "        Documents.append((ListWords[m],ListClass[m]))\n",
    "    #shuffle\n",
    "    random.shuffle(Documents)\n",
    "    return Documents\n",
    "Documents = Create_Document(ReviewsText,ListWords)"
   ]
  },
  {
   "cell_type": "code",
   "execution_count": 0,
   "metadata": {
    "colab": {
     "base_uri": "https://localhost:8080/",
     "height": 54
    },
    "colab_type": "code",
    "id": "7lDMNfi4lIG-",
    "outputId": "805b83fb-7b77-4c17-ebd4-3bc98251198f"
   },
   "outputs": [
    {
     "name": "stdout",
     "output_type": "stream",
     "text": [
      "(['like', 'people', 'got', 'camera', 'quite', 'compact', 'quality', 'image', 'pleased', 'image', 'quality', 'work', 'start', 'felt', 'flimsy', 'felt', 'like', 'would', 'rough', 'treatment', 'sure', 'enough'], 'neg')\n"
     ]
    }
   ],
   "source": [
    "print(Documents[1])"
   ]
  },
  {
   "cell_type": "markdown",
   "metadata": {
    "colab_type": "text",
    "id": "DbGoFfgXuStq"
   },
   "source": [
    "# Word Embedding\n",
    "Image and audio processing systems work with rich, high-dimensional datasets encoded as vectors of the individual raw pixel-intensities for image data, or e.g. power spectral density coefficients for audio data. For tasks like object or speech recognition we know that all the information required to successfully perform the task is encoded in the data (because humans can perform these tasks from the raw data).\n",
    "\n",
    " However, natural language processing systems traditionally treat words as discrete atomic symbols, and therefore 'cat' may be represented as Id537 and 'dog' as Id143. These encodings are arbitrary, and provide no useful information to the system regarding the relationships that may exist between the individual symbols. This means that the model can leverage very little of what it has learned about 'cats' when it is processing data about 'dogs' (such that they are both animals, four-legged, pets, etc.).\n",
    "\n",
    "> Representing words as unique, discrete ids furthermore leads to data sparsity, and usually means that we may need more data in order to successfully train statistical models. Using vector representations can overcome some of these obstacles."
   ]
  },
  {
   "cell_type": "code",
   "execution_count": 0,
   "metadata": {
    "colab": {},
    "colab_type": "code",
    "id": "iKXp7uz9lH7Q"
   },
   "outputs": [],
   "source": [
    "import gensim, logging\n",
    "from gensim.models.word2vec import Word2Vec # the word2vec model gensim class"
   ]
  },
  {
   "cell_type": "markdown",
   "metadata": {
    "colab_type": "text",
    "id": "J6a08uUhCA7L"
   },
   "source": [
    "### How Word2Vec works?\n",
    "\n",
    "The idea behind word2vec is that:\n",
    "\n",
    "\n",
    "1.   Take a 3 layer neural network. (1 input layer + 1 hidden layer + 1 output layer)\n",
    "2.   Feed it a word and train it to predict its neighbouring word.\n",
    "3.   Remove the last (output layer) and keep the input and hidden layer.\n",
    "4.   Now, input a word from within the vocabulary. The output given at the hidden layer is the ‘word embedding’ of the input word.\n",
    "\n",
    "Two popular examples of methods of learning word embeddings from text include:\n",
    "\n",
    "- Word2Vec\n",
    "- GloVe\n",
    "\n",
    "In addition to these carefully designed methods, a word embedding can be learned as part of a deep learning model. This can be a slower approach, but tailors the model to a specific training dataset."
   ]
  },
  {
   "cell_type": "code",
   "execution_count": 0,
   "metadata": {
    "colab": {
     "base_uri": "https://localhost:8080/",
     "height": 530
    },
    "colab_type": "code",
    "id": "HNUJMWOalHcB",
    "outputId": "bba69767-d524-4844-fd19-2bb5a98b1345"
   },
   "outputs": [
    {
     "name": "stdout",
     "output_type": "stream",
     "text": [
      "Word2Vec(vocab=47478, size=100, alpha=0.025)\n",
      "first 100 words :  ['bridget', 'jones', 'modern', 'woman', 'brillant', 'know', 'prone', 'accident', 'mess', 'manages', 'come', 'ordering', 'copy', 'middle', 'school', 'principal', 'assistant', 'leading', 'program', 'milwaukee', 'public', 'schools', 'system', 'use', 'wheatley', 'book', 'primary', 'resource', 'professional', 'growth', 'principals', 'collaborative', 'institute', 'august', '11', '1999', 'concerned', 'reform', 'seek', 'renewal', 'well', 'provides', 'basis', 'note', 'einstein', 'said', 'problem', 'cannot', 'solved', 'consciousness', 'created', 'entire', 'marvelous', 'exploration', 'philosophy', 'casual', 'piano', 'player', 'broadway', 'fanatic', 'jazzed', 'play', 'song', 'avenue', 'the', 'contains', 'everything', 'find', 'includes', 'production', 'photo', 'best', 'biography', 'ever', 'read', 'tell', 'author', 'lot', 'time', 'effort', 'work', 'true', 'labor', 'love', 'filled', 'beautiful', 'extensive', 'bibliographical', 'one', 'keeper', 'knew', 'miss', 'francis', 'wild', 'child', 'whether', 'film', 'scholar', 'movie', 'buff']\n",
      "[ 0.1790741  -0.20128061  0.19776423 -0.9940344   0.46724993 -0.56536484\n",
      " -0.4859776  -0.19062246  0.24656178  0.5507636   0.8147617  -0.5981315\n",
      " -1.1522323   0.20139378  1.2903302  -1.2038387  -1.4468154   0.710552\n",
      " -1.905215   -0.41992897  0.9975922  -1.6104244  -1.6190987   0.2459024\n",
      "  0.58793145 -0.1459463   0.17655493  0.3625776  -1.6046163  -0.4094352\n",
      "  1.4146665  -0.21389964 -0.12043346  0.4601575   0.56617415 -0.7517547\n",
      " -0.12136269 -1.0950733  -0.5467699   1.0186663  -0.56286025  0.12484594\n",
      " -0.52122194  0.9942408  -0.36084205  1.2691367   1.2243724   0.80265814\n",
      " -0.20817792 -0.02891255  0.5375682   1.6999222  -0.24995278  0.36780998\n",
      "  1.155289   -0.40113315  0.06689125 -0.00886597  1.9263749   0.7509873\n",
      " -0.46090078  0.78429806  0.12183865 -0.15206549  1.0495877   0.26049918\n",
      " -1.1340232  -0.2342184   0.57297295  0.6068159   0.9120659  -0.47603962\n",
      " -0.8942832  -0.43933555 -0.41206092 -0.5805648   1.4999062   0.34055728\n",
      "  0.20918788  0.46916476  0.4615032  -1.4261099  -0.05660368 -0.22989053\n",
      " -1.4741592  -0.2335257  -0.12804878  0.5258137   0.27894756 -0.70226675\n",
      " -0.02698733 -0.76892173  0.50795025  1.3236586   1.0903729   0.44979942\n",
      "  0.91094834  0.37339184 -0.8084133   0.24896893]\n"
     ]
    },
    {
     "name": "stderr",
     "output_type": "stream",
     "text": [
      "/usr/local/lib/python3.6/dist-packages/ipykernel_launcher.py:5: DeprecationWarning:\n",
      "\n",
      "Call to deprecated `__getitem__` (Method will be removed in 4.0.0, use self.wv.__getitem__() instead).\n",
      "\n",
      "/usr/local/lib/python3.6/dist-packages/smart_open/smart_open_lib.py:410: UserWarning:\n",
      "\n",
      "This function is deprecated, use smart_open.open instead. See the migration notes for details: https://github.com/RaRe-Technologies/smart_open/blob/master/README.rst#migrating-to-the-new-open-function\n",
      "\n"
     ]
    },
    {
     "name": "stdout",
     "output_type": "stream",
     "text": [
      "['bridget', 'jones', 'modern', 'woman', 'brillant', 'know', 'prone', 'accident', 'mess', 'manages', 'come', 'ordering', 'copy', 'middle', 'school', 'principal', 'assistant', 'leading', 'program', 'milwaukee', 'public', 'schools', 'system', 'use', 'wheatley', 'book', 'primary', 'resource', 'professional', 'growth', 'principals', 'collaborative', 'institute', 'august', '11', '1999', 'concerned', 'reform', 'seek', 'renewal', 'well', 'provides', 'basis', 'note', 'einstein', 'said', 'problem', 'cannot', 'solved', 'consciousness', 'created', 'entire', 'marvelous', 'exploration', 'philosophy', 'casual', 'piano', 'player', 'broadway', 'fanatic', 'jazzed', 'play', 'song', 'avenue', 'the', 'contains', 'everything', 'find', 'includes', 'production', 'photo', 'best', 'biography', 'ever', 'read', 'tell', 'author', 'lot', 'time', 'effort', 'work', 'true', 'labor', 'love', 'filled', 'beautiful', 'extensive', 'bibliographical', 'one', 'keeper', 'knew', 'miss', 'francis', 'wild', 'child', 'whether', 'film', 'scholar', 'movie', 'buff']\n",
      "Word2Vec(vocab=47478, size=100, alpha=0.025)\n"
     ]
    }
   ],
   "source": [
    "model = Word2Vec(ListWords, min_count=1)\n",
    "print(model)\n",
    "words = list(model.wv.vocab)\n",
    "print(\"first 100 words : \",words[:100])\n",
    "print(model['good'])\n",
    "model.save('/content/drive/My Drive/data/sorted_data/model.bin')\n",
    "words = list(model.wv.vocab)\n",
    "print(words[:100])\n",
    "del model\n",
    "model = Word2Vec.load('/content/drive/My Drive/data/sorted_data/model.bin')\n",
    "print(model)"
   ]
  },
  {
   "cell_type": "code",
   "execution_count": 0,
   "metadata": {
    "colab": {
     "base_uri": "https://localhost:8080/",
     "height": 496
    },
    "colab_type": "code",
    "id": "iHMFn6QQnOiY",
    "outputId": "27b1f1dc-83de-41a6-c165-ee6c9d46a50d"
   },
   "outputs": [
    {
     "name": "stdout",
     "output_type": "stream",
     "text": [
      "[ 2.9514706e-01 -1.8576024e-01  6.2592030e-01 -6.1565280e-01\n",
      "  9.4003153e-01 -5.7794815e-01 -5.4476702e-01 -6.9392377e-01\n",
      "  6.4386308e-01  1.9760129e-01  9.4761866e-01 -4.2218348e-01\n",
      " -1.1555102e+00  4.3266448e-01  1.0556967e+00 -1.1436787e+00\n",
      " -1.6232667e+00  1.0408585e+00 -1.5545306e+00 -3.7776064e-02\n",
      "  1.1564168e+00 -1.5907465e+00 -1.8226409e+00  1.3096440e-01\n",
      "  4.5701554e-01  9.8963939e-02  6.2946779e-01  3.8249302e-01\n",
      " -1.9422871e+00 -1.4562392e-01  1.5304559e+00  1.6672142e-01\n",
      " -1.6113798e-01  1.6766119e-01  6.9040164e-02 -1.8097787e-01\n",
      "  3.1926477e-01 -1.0212344e+00 -9.6277541e-01  8.1856138e-01\n",
      " -4.7993034e-01 -1.0639780e-01 -3.7503827e-01  1.0502235e+00\n",
      " -6.7564797e-01  1.6148764e+00  1.2669873e+00  8.7648207e-01\n",
      " -3.9016873e-01  1.3213238e-01  7.9059589e-01  1.0429626e+00\n",
      " -3.2831508e-01  5.3096151e-01  6.3884354e-01 -3.4434286e-01\n",
      "  3.6340469e-01  1.2308281e-01  2.0324686e+00  8.4918535e-01\n",
      " -3.4620669e-02  6.0907990e-01  3.2599786e-01 -1.8847568e-01\n",
      "  1.3675181e+00  6.8079807e-02 -1.0136368e+00 -1.6610570e-01\n",
      "  5.8081436e-01  6.1304909e-01  9.4103432e-01 -7.0532936e-01\n",
      " -8.5849583e-01 -6.5120745e-01 -5.2892971e-01 -5.7435209e-01\n",
      "  9.8371214e-01  3.4941271e-01  4.3375221e-01  8.1015602e-02\n",
      "  1.0270971e-01 -1.3440987e+00  1.4295651e-03 -4.9765296e-02\n",
      " -1.7052821e+00 -1.9873781e-02 -7.9411507e-02  5.3247058e-01\n",
      "  9.7832605e-02 -6.4662969e-01 -2.9258847e-01 -9.6232492e-01\n",
      "  5.4290676e-01  1.1655825e+00  9.5316762e-01  6.6418880e-01\n",
      "  1.1919473e+00  1.0905718e+00 -7.3018277e-01  3.1360984e-01]\n"
     ]
    },
    {
     "name": "stderr",
     "output_type": "stream",
     "text": [
      "/usr/local/lib/python3.6/dist-packages/ipykernel_launcher.py:1: DeprecationWarning: Call to deprecated `__getitem__` (Method will be removed in 4.0.0, use self.wv.__getitem__() instead).\n",
      "  \"\"\"Entry point for launching an IPython kernel.\n"
     ]
    }
   ],
   "source": [
    "print(model['good'])"
   ]
  },
  {
   "cell_type": "code",
   "execution_count": 0,
   "metadata": {
    "colab": {
     "base_uri": "https://localhost:8080/",
     "height": 275
    },
    "colab_type": "code",
    "id": "4tnmXxFsnUpL",
    "outputId": "748227c4-f115-4002-fc44-8c659c898eec"
   },
   "outputs": [
    {
     "name": "stderr",
     "output_type": "stream",
     "text": [
      "/usr/local/lib/python3.6/dist-packages/ipykernel_launcher.py:1: DeprecationWarning: Call to deprecated `most_similar` (Method will be removed in 4.0.0, use self.wv.most_similar() instead).\n",
      "  \"\"\"Entry point for launching an IPython kernel.\n",
      "/usr/local/lib/python3.6/dist-packages/gensim/matutils.py:737: FutureWarning: Conversion of the second argument of issubdtype from `int` to `np.signedinteger` is deprecated. In future, it will be treated as `np.int64 == np.dtype(int).type`.\n",
      "  if np.issubdtype(vec.dtype, np.int):\n"
     ]
    },
    {
     "data": {
      "text/plain": [
       "[('newver', 0.6606930494308472),\n",
       " ('amazing', 0.6584285497665405),\n",
       " ('incoherrent', 0.6544762253761292),\n",
       " ('hvidt', 0.6227588653564453),\n",
       " ('ghostly', 0.6207919120788574),\n",
       " ('lyricist', 0.6186084747314453),\n",
       " ('proview', 0.6155211329460144),\n",
       " ('terrible', 0.6149718761444092),\n",
       " ('robbins', 0.6143516302108765),\n",
       " ('mushrooms', 0.608584463596344)]"
      ]
     },
     "execution_count": 20,
     "metadata": {
      "tags": []
     },
     "output_type": "execute_result"
    }
   ],
   "source": [
    "model.most_similar(positive=['good', 'best'], negative=['waste'], topn=10)"
   ]
  },
  {
   "cell_type": "markdown",
   "metadata": {
    "colab_type": "text",
    "id": "iCefNAP8DOnB"
   },
   "source": [
    "## Cosine similarity\n",
    "To measure how similar two words are, we need a way to measure the degree of similarity between two embedding vectors for the two words. Given two vectors $u$ and $v$, cosine similarity is defined as follows:\n",
    "\n",
    "$$\\text{CosineSimilarity(u, v)} = \\frac {u . v} {||u||_2 ||v||_2} = cos(\\theta) \\tag{1}$$\n",
    "where $u.v$ is the dot product (or inner product) of two vectors, $||u||_2$ is the norm (or length) of the vector $u$, and $\\theta$ is the angle between $u$ and $v$. This similarity depends on the angle between $u$ and $v$. If $u$ and $v$ are very similar, their cosine similarity will be close to 1; if they are dissimilar, the cosine similarity will take a smaller value.\n",
    "\n",
    "\n",
    "\n",
    "Exercise: Implement the function cosine_similarity() to evaluate similarity between word vectors.\n",
    "\n",
    "Reminder: The norm of $u$ is defined as $ ||u||_2 = \\sqrt{\\sum_{i=1}^{n} u_i^2}$"
   ]
  },
  {
   "cell_type": "code",
   "execution_count": 0,
   "metadata": {
    "colab": {},
    "colab_type": "code",
    "id": "vjpFr02bnjBS"
   },
   "outputs": [],
   "source": [
    "# GRADED FUNCTION: cosine_similarity\n",
    "\n",
    "def cosine_similarity(u, v):\n",
    "    \n",
    "    distance = 0.0\n",
    "\n",
    "    # Compute the dot product between u and v (≈1 line)\n",
    "    dot = np.dot(u,v)\n",
    "    # Compute the L2 norm of u (≈1 line)\n",
    "    norm_u = np.sqrt(sum(u**2))\n",
    "    \n",
    "    # Compute the L2 norm of v (≈1 line)\n",
    "    norm_v = np.sqrt(sum(v**2))\n",
    "    # Compute the cosine similarity defined by formula (1) (≈1 line)\n",
    "    cosine_similarity = dot/(norm_u*norm_v)\n",
    "    \n",
    "    return cosine_similarity"
   ]
  },
  {
   "cell_type": "code",
   "execution_count": 0,
   "metadata": {
    "colab": {
     "base_uri": "https://localhost:8080/",
     "height": 88
    },
    "colab_type": "code",
    "id": "NMR-usVmnlmw",
    "outputId": "7e1f7a01-7efc-4231-edde-c9c6044ba5da"
   },
   "outputs": [
    {
     "name": "stdout",
     "output_type": "stream",
     "text": [
      "cosine_similarity(good, amazing) =  0.7797795959772708\n"
     ]
    },
    {
     "name": "stderr",
     "output_type": "stream",
     "text": [
      "/usr/local/lib/python3.6/dist-packages/ipykernel_launcher.py:1: DeprecationWarning: Call to deprecated `__getitem__` (Method will be removed in 4.0.0, use self.wv.__getitem__() instead).\n",
      "  \"\"\"Entry point for launching an IPython kernel.\n"
     ]
    }
   ],
   "source": [
    "print(\"cosine_similarity(good, amazing) = \", cosine_similarity(model['good'],model['amazing']))"
   ]
  },
  {
   "cell_type": "markdown",
   "metadata": {
    "colab_type": "text",
    "id": "2fSuNjKMDwjz"
   },
   "source": [
    "## PCA(Principal Component Analysis)\n",
    "It is a linear deterministic algorithm (principal component analysis) that tries to capture as much of the data variability in as few dimensions as possible. PCA tends to highlight large-scale structure in the data, but can distort local neighborhoods. The Embedding Projector computes the top 10 principal components, from which you can choose two or three to view."
   ]
  },
  {
   "cell_type": "code",
   "execution_count": 0,
   "metadata": {
    "colab": {
     "base_uri": "https://localhost:8080/",
     "height": 71
    },
    "colab_type": "code",
    "id": "pVjQPquunvEp",
    "outputId": "c5c545ee-fb0b-408c-93ed-ec957c7005d1"
   },
   "outputs": [
    {
     "name": "stderr",
     "output_type": "stream",
     "text": [
      "/usr/local/lib/python3.6/dist-packages/ipykernel_launcher.py:2: DeprecationWarning: Call to deprecated `__getitem__` (Method will be removed in 4.0.0, use self.wv.__getitem__() instead).\n",
      "  \n"
     ]
    }
   ],
   "source": [
    "from sklearn.decomposition import PCA\n",
    "X = model[model.wv.vocab]\n",
    "pca = PCA(n_components=3)\n",
    "result = pca.fit_transform(X)"
   ]
  },
  {
   "cell_type": "markdown",
   "metadata": {
    "colab_type": "text",
    "id": "Za-6ex7kEKps"
   },
   "source": [
    "### Visualizing the PCA results using the pyplot library"
   ]
  },
  {
   "cell_type": "code",
   "execution_count": 0,
   "metadata": {
    "colab": {
     "base_uri": "https://localhost:8080/",
     "height": 778
    },
    "colab_type": "code",
    "id": "PZz1ERWtn0Ep",
    "outputId": "7c0b5a9b-3744-426c-a637-669b893beaa3"
   },
   "outputs": [
    {
     "name": "stdout",
     "output_type": "stream",
     "text": [
      "Collecting plotly==3.1.0\n",
      "\u001b[?25l  Downloading https://files.pythonhosted.org/packages/8a/e3/e1baab5b000158966d2c70ceebbdf2cce8a665fb77445aa5ab2dc4fb05a5/plotly-3.1.0.tar.gz (30.3MB)\n",
      "\u001b[K     |████████████████████████████████| 30.3MB 142kB/s \n",
      "\u001b[?25hRequirement already satisfied: decorator>=4.0.6 in /usr/local/lib/python3.6/dist-packages (from plotly==3.1.0) (4.4.2)\n",
      "Requirement already satisfied: nbformat>=4.2 in /usr/local/lib/python3.6/dist-packages (from plotly==3.1.0) (5.0.5)\n",
      "Requirement already satisfied: pytz in /usr/local/lib/python3.6/dist-packages (from plotly==3.1.0) (2018.9)\n",
      "Requirement already satisfied: requests in /usr/local/lib/python3.6/dist-packages (from plotly==3.1.0) (2.21.0)\n",
      "Requirement already satisfied: retrying>=1.3.3 in /usr/local/lib/python3.6/dist-packages (from plotly==3.1.0) (1.3.3)\n",
      "Requirement already satisfied: six in /usr/local/lib/python3.6/dist-packages (from plotly==3.1.0) (1.12.0)\n",
      "Requirement already satisfied: jsonschema!=2.5.0,>=2.4 in /usr/local/lib/python3.6/dist-packages (from nbformat>=4.2->plotly==3.1.0) (2.6.0)\n",
      "Requirement already satisfied: ipython-genutils in /usr/local/lib/python3.6/dist-packages (from nbformat>=4.2->plotly==3.1.0) (0.2.0)\n",
      "Requirement already satisfied: traitlets>=4.1 in /usr/local/lib/python3.6/dist-packages (from nbformat>=4.2->plotly==3.1.0) (4.3.3)\n",
      "Requirement already satisfied: jupyter-core in /usr/local/lib/python3.6/dist-packages (from nbformat>=4.2->plotly==3.1.0) (4.6.3)\n",
      "Requirement already satisfied: urllib3<1.25,>=1.21.1 in /usr/local/lib/python3.6/dist-packages (from requests->plotly==3.1.0) (1.24.3)\n",
      "Requirement already satisfied: idna<2.9,>=2.5 in /usr/local/lib/python3.6/dist-packages (from requests->plotly==3.1.0) (2.8)\n",
      "Requirement already satisfied: chardet<3.1.0,>=3.0.2 in /usr/local/lib/python3.6/dist-packages (from requests->plotly==3.1.0) (3.0.4)\n",
      "Requirement already satisfied: certifi>=2017.4.17 in /usr/local/lib/python3.6/dist-packages (from requests->plotly==3.1.0) (2019.11.28)\n",
      "Building wheels for collected packages: plotly\n",
      "  Building wheel for plotly (setup.py) ... \u001b[?25l\u001b[?25hdone\n",
      "  Created wheel for plotly: filename=plotly-3.1.0-cp36-none-any.whl size=36867541 sha256=fc1f5c01abf8c2a0e64cf3be22010a153300600259b5bd445a303147d4fb13b5\n",
      "  Stored in directory: /root/.cache/pip/wheels/9f/8c/a4/a1a26a9a0ac42d852e0fb4b0ba021cc6b881aab075d03e903b\n",
      "Successfully built plotly\n",
      "\u001b[31mERROR: cufflinks 0.17.3 has requirement plotly>=4.1.1, but you'll have plotly 3.1.0 which is incompatible.\u001b[0m\n",
      "Installing collected packages: plotly\n",
      "  Found existing installation: plotly 3.10.0\n",
      "    Uninstalling plotly-3.10.0:\n",
      "      Successfully uninstalled plotly-3.10.0\n",
      "Successfully installed plotly-3.1.0\n"
     ]
    },
    {
     "data": {
      "text/plain": [
       "\"\\ntrace = go.Scatter(\\n    x = result[:,0],\\n    y = result[:,1],\\n    mode = 'markers'\\n)\\n\\n#data = [trace]\\n\\n# Plot and embed in ipython notebook!\\n#py.iplot(data, filename='basic-scatter')\\n\""
      ]
     },
     "execution_count": 24,
     "metadata": {
      "tags": []
     },
     "output_type": "execute_result"
    },
    {
     "data": {
      "image/png": "[encoded data removed]",
      "text/plain": [
       "<Figure size 432x288 with 1 Axes>"
      ]
     },
     "metadata": {
      "tags": []
     },
     "output_type": "display_data"
    }
   ],
   "source": [
    "!pip install plotly==3.1.0\n",
    "import plotly.plotly as py\n",
    "import plotly.graph_objs as go\n",
    "import plotly\n",
    "plotly.tools.set_credentials_file(username='mishrarishabh76', api_key='S0JpKfbhvGA02SvfgVWw7')\n",
    "plt.scatter(x = result[:,0],\n",
    "    y = result[:,1])"
   ]
  },
  {
   "cell_type": "code",
   "execution_count": 0,
   "metadata": {
    "colab": {
     "base_uri": "https://localhost:8080/",
     "height": 34
    },
    "colab_type": "code",
    "id": "DnHz3hlryKg7",
    "outputId": "65fbbcda-f859-4be5-b51a-929708040a68"
   },
   "outputs": [
    {
     "name": "stdout",
     "output_type": "stream",
     "text": [
      "[0.5994976  0.0784263  0.06616414]\n"
     ]
    }
   ],
   "source": [
    "print(pca.explained_variance_ratio_)"
   ]
  },
  {
   "cell_type": "markdown",
   "metadata": {
    "colab_type": "text",
    "id": "m9_g_89kEpyG"
   },
   "source": [
    "\n",
    "## t-SNE (T-distributed stochastic neighbor embedding)\n",
    "It is a nonlinear nondeterministic algorithm (T-distributed stochastic neighbor embedding) that tries to preserve local neighborhoods in the data, often at the expense of distorting global structure. We can choose whether to compute two- or three-dimensional projections."
   ]
  },
  {
   "cell_type": "code",
   "execution_count": 0,
   "metadata": {
    "colab": {},
    "colab_type": "code",
    "id": "Ri0SLNEZyPI6"
   },
   "outputs": [],
   "source": [
    "from sklearn.manifold import TSNE\n",
    "rst = TSNE(n_components=3, random_state=0).fit_transform(X[:100])"
   ]
  },
  {
   "cell_type": "code",
   "execution_count": 0,
   "metadata": {
    "colab": {},
    "colab_type": "code",
    "id": "w_IXeyF2yVT6"
   },
   "outputs": [],
   "source": [
    "listWords = list(model.wv.vocab)"
   ]
  },
  {
   "cell_type": "code",
   "execution_count": 0,
   "metadata": {
    "colab": {
     "base_uri": "https://localhost:8080/",
     "height": 275
    },
    "colab_type": "code",
    "id": "ruhx0j8Uyp9P",
    "outputId": "bbcdee2c-66f6-487b-b7fe-d470704ac28c"
   },
   "outputs": [
    {
     "name": "stdout",
     "output_type": "stream",
     "text": [
      "0.7797797\n",
      "0.6264203\n"
     ]
    },
    {
     "name": "stderr",
     "output_type": "stream",
     "text": [
      "/usr/local/lib/python3.6/dist-packages/ipykernel_launcher.py:1: DeprecationWarning:\n",
      "\n",
      "Call to deprecated `similarity` (Method will be removed in 4.0.0, use self.wv.similarity() instead).\n",
      "\n",
      "/usr/local/lib/python3.6/dist-packages/gensim/matutils.py:737: FutureWarning:\n",
      "\n",
      "Conversion of the second argument of issubdtype from `int` to `np.signedinteger` is deprecated. In future, it will be treated as `np.int64 == np.dtype(int).type`.\n",
      "\n",
      "/usr/local/lib/python3.6/dist-packages/ipykernel_launcher.py:2: DeprecationWarning:\n",
      "\n",
      "Call to deprecated `similarity` (Method will be removed in 4.0.0, use self.wv.similarity() instead).\n",
      "\n"
     ]
    }
   ],
   "source": [
    "print(model.similarity('good', 'amazing'))\n",
    "print(model.similarity('waste', 'bunch'))"
   ]
  },
  {
   "cell_type": "code",
   "execution_count": 0,
   "metadata": {
    "colab": {
     "base_uri": "https://localhost:8080/",
     "height": 54
    },
    "colab_type": "code",
    "id": "vUFZqxVuyxSk",
    "outputId": "038eb205-210e-4a2b-e470-8538bfa040a4"
   },
   "outputs": [
    {
     "name": "stdout",
     "output_type": "stream",
     "text": [
      "[('money', 0.6657887), ('price', 0.016836785), ('buck', 0.001539567), ('quality', 0.0013092814), ('what', 0.0010602504), ('album', 0.0008715803), ('song', 0.0008555916), ('deal', 0.0007974134), ('thing', 0.0006881013), ('penny', 0.00062970293)]\n"
     ]
    }
   ],
   "source": [
    "print(model.predict_output_word(['good', 'waste', 'amazing']))"
   ]
  },
  {
   "cell_type": "code",
   "execution_count": 0,
   "metadata": {
    "colab": {},
    "colab_type": "code",
    "id": "sbwuoatTy0lr"
   },
   "outputs": [],
   "source": [
    "def display_closestwords_tsnescatterplot(model, word):\n",
    "    \n",
    "    arr = np.empty((0,100), dtype='f')\n",
    "    word_labels = [word]\n",
    "\n",
    "    # get close words\n",
    "    close_words = model.similar_by_word(word)\n",
    "    \n",
    "    # add the vector for each of the closest words to the array\n",
    "    arr = np.append(arr, np.array([model[word]]), axis=0)\n",
    "    for wrd_score in close_words:\n",
    "        wrd_vector = model[wrd_score[0]]\n",
    "        word_labels.append(wrd_score[0])\n",
    "        arr = np.append(arr, np.array([wrd_vector]), axis=0)\n",
    "        \n",
    "    # find tsne coords for 2 dimensions\n",
    "    tsne = TSNE(n_components=2, random_state=0)\n",
    "    np.set_printoptions(suppress=True)\n",
    "    Y = tsne.fit_transform(arr)\n",
    "\n",
    "    x_coords = Y[:, 0]\n",
    "    y_coords = Y[:, 1]\n",
    "    # display scatter plot\n",
    "    plt.scatter(x_coords, y_coords)\n",
    "\n",
    "    for label, x, y in zip(word_labels, x_coords, y_coords):\n",
    "        plt.annotate(label, xy=(x, y), xytext=(0, 0), textcoords='offset points')\n",
    "    plt.xlim(x_coords.min()+0.00005, x_coords.max()+0.00005)\n",
    "    plt.ylim(y_coords.min()+0.00005, y_coords.max()+0.00005)\n",
    "    plt.show()"
   ]
  },
  {
   "cell_type": "code",
   "execution_count": 0,
   "metadata": {
    "colab": {
     "base_uri": "https://localhost:8080/",
     "height": 565
    },
    "colab_type": "code",
    "id": "JZjIxDUczHkM",
    "outputId": "23d21069-147a-4816-85a9-f5aa5750d5dd"
   },
   "outputs": [
    {
     "name": "stderr",
     "output_type": "stream",
     "text": [
      "/usr/local/lib/python3.6/dist-packages/ipykernel_launcher.py:7: DeprecationWarning:\n",
      "\n",
      "Call to deprecated `similar_by_word` (Method will be removed in 4.0.0, use self.wv.similar_by_word() instead).\n",
      "\n",
      "/usr/local/lib/python3.6/dist-packages/gensim/matutils.py:737: FutureWarning:\n",
      "\n",
      "Conversion of the second argument of issubdtype from `int` to `np.signedinteger` is deprecated. In future, it will be treated as `np.int64 == np.dtype(int).type`.\n",
      "\n",
      "/usr/local/lib/python3.6/dist-packages/ipykernel_launcher.py:10: DeprecationWarning:\n",
      "\n",
      "Call to deprecated `__getitem__` (Method will be removed in 4.0.0, use self.wv.__getitem__() instead).\n",
      "\n",
      "/usr/local/lib/python3.6/dist-packages/ipykernel_launcher.py:12: DeprecationWarning:\n",
      "\n",
      "Call to deprecated `__getitem__` (Method will be removed in 4.0.0, use self.wv.__getitem__() instead).\n",
      "\n"
     ]
    },
    {
     "data": {
      "image/png": "[encoded data removed]",
      "text/plain": [
       "<Figure size 432x288 with 1 Axes>"
      ]
     },
     "metadata": {
      "tags": []
     },
     "output_type": "display_data"
    }
   ],
   "source": [
    "display_closestwords_tsnescatterplot(model, 'good')"
   ]
  }
 ],
 "metadata": {
  "colab": {
   "collapsed_sections": [],
   "name": "Word Embedding.ipynb",
   "provenance": []
  },
  "kernelspec": {
   "display_name": "Python 3",
   "language": "python",
   "name": "python3"
  },
  "language_info": {
   "codemirror_mode": {
    "name": "ipython",
    "version": 3
   },
   "file_extension": ".py",
   "mimetype": "text/x-python",
   "name": "python",
   "nbconvert_exporter": "python",
   "pygments_lexer": "ipython3",
   "version": "3.7.3"
  }
 },
 "nbformat": 4,
 "nbformat_minor": 1
}
